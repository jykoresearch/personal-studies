{
 "cells": [
  {
   "cell_type": "code",
   "execution_count": 1,
   "metadata": {},
   "outputs": [],
   "source": [
    "from scipy.optimize import minimize\n",
    "import scipy\n",
    "import numpy as np\n",
    "import pandas as pd\n",
    "import random \n",
    "import matplotlib.pyplot as plt\n",
    "from matplotlib import cm"
   ]
  },
  {
   "cell_type": "code",
   "execution_count": 2,
   "metadata": {},
   "outputs": [
    {
     "name": "stdout",
     "output_type": "stream",
     "text": [
      "[-3.0, -3.0, 2.25, 2.25]\n"
     ]
    }
   ],
   "source": [
    "x0_center = 1.5\n",
    "x1_center = 1.5\n",
    "\n",
    "def groundtruth_function(x): # 우리가 원하는 타겟 함수 (groundtruth_function)\n",
    "    z = (x[0] - x0_center)**2 + (x[1] - x1_center)**2\n",
    "    return \n",
    "\n",
    "def function(x): # 실험을 통해 얻는 데이터 (가상 데이터 생성) ~ 실험 함.\n",
    "    noise_x0 = np.random.normal(0,1)\n",
    "    noise_x1 = np.random.normal(0,1)\n",
    "    noise_y = np.random.normal(0,1)\n",
    "\n",
    "    # noise_x0, noise_x1, noise_y = [0, 0, 0] # If there is no sensor noise. \n",
    "\n",
    "    print(noise_x0)\n",
    "\n",
    "    y = (x[0] - x0_center - noise_x0)**2 + (x[1] - x1_center - noise_x1)**2 + noise_y\n",
    "    return y\n",
    "\n",
    "def const1(x):\n",
    "    const = x[0] - 4 \n",
    "    return\n",
    "\n",
    "groundtruth_params = [-2*x0_center, -2*x1_center, x0_center**2, x1_center**2]\n",
    "print(groundtruth_params)"
   ]
  },
  {
   "cell_type": "code",
   "execution_count": 14,
   "metadata": {},
   "outputs": [
    {
     "name": "stdout",
     "output_type": "stream",
     "text": [
      "-0.4548379904006797\n"
     ]
    }
   ],
   "source": [
    "x0_min = -10\n",
    "x0_max = 10\n",
    "\n",
    "x1_min = -10\n",
    "x1_max = 10\n",
    "\n",
    "n = 5\n",
    "\n",
    "# Let's assume that we did 'n'-K experiment design for 2 variables.\n",
    "\n",
    "x0 = np.linspace(x0_min,x0_max,n)\n",
    "x1 = np.linspace(x1_min,x1_max,n)\n",
    "X0, X1 = (np.meshgrid(x0, x1))\n",
    "X0 = X0.flatten()\n",
    "X1 = X1.flatten()\n",
    "\n",
    "y0 = function([X0, X1])\n",
    "\n",
    "d = {'x0': X1, 'x1': X0, 'y0': y0}\n",
    "\n",
    "df = pd.DataFrame(data = d)"
   ]
  },
  {
   "cell_type": "code",
   "execution_count": 16,
   "metadata": {},
   "outputs": [
    {
     "data": {
      "text/html": [
       "<div>\n",
       "<style scoped>\n",
       "    .dataframe tbody tr th:only-of-type {\n",
       "        vertical-align: middle;\n",
       "    }\n",
       "\n",
       "    .dataframe tbody tr th {\n",
       "        vertical-align: top;\n",
       "    }\n",
       "\n",
       "    .dataframe thead th {\n",
       "        text-align: right;\n",
       "    }\n",
       "</style>\n",
       "<table border=\"1\" class=\"dataframe\">\n",
       "  <thead>\n",
       "    <tr style=\"text-align: right;\">\n",
       "      <th></th>\n",
       "      <th>x0</th>\n",
       "      <th>x1</th>\n",
       "      <th>y0</th>\n",
       "    </tr>\n",
       "  </thead>\n",
       "  <tbody>\n",
       "    <tr>\n",
       "      <th>0</th>\n",
       "      <td>-10.0</td>\n",
       "      <td>-10.0</td>\n",
       "      <td>265.377082</td>\n",
       "    </tr>\n",
       "    <tr>\n",
       "      <th>1</th>\n",
       "      <td>-10.0</td>\n",
       "      <td>-5.0</td>\n",
       "      <td>179.925462</td>\n",
       "    </tr>\n",
       "    <tr>\n",
       "      <th>2</th>\n",
       "      <td>-10.0</td>\n",
       "      <td>0.0</td>\n",
       "      <td>144.473842</td>\n",
       "    </tr>\n",
       "    <tr>\n",
       "      <th>3</th>\n",
       "      <td>-10.0</td>\n",
       "      <td>5.0</td>\n",
       "      <td>159.022222</td>\n",
       "    </tr>\n",
       "    <tr>\n",
       "      <th>4</th>\n",
       "      <td>-10.0</td>\n",
       "      <td>10.0</td>\n",
       "      <td>223.570602</td>\n",
       "    </tr>\n",
       "    <tr>\n",
       "      <th>5</th>\n",
       "      <td>-5.0</td>\n",
       "      <td>-10.0</td>\n",
       "      <td>170.499978</td>\n",
       "    </tr>\n",
       "    <tr>\n",
       "      <th>6</th>\n",
       "      <td>-5.0</td>\n",
       "      <td>-5.0</td>\n",
       "      <td>85.048358</td>\n",
       "    </tr>\n",
       "    <tr>\n",
       "      <th>7</th>\n",
       "      <td>-5.0</td>\n",
       "      <td>0.0</td>\n",
       "      <td>49.596738</td>\n",
       "    </tr>\n",
       "    <tr>\n",
       "      <th>8</th>\n",
       "      <td>-5.0</td>\n",
       "      <td>5.0</td>\n",
       "      <td>64.145118</td>\n",
       "    </tr>\n",
       "    <tr>\n",
       "      <th>9</th>\n",
       "      <td>-5.0</td>\n",
       "      <td>10.0</td>\n",
       "      <td>128.693498</td>\n",
       "    </tr>\n",
       "    <tr>\n",
       "      <th>10</th>\n",
       "      <td>0.0</td>\n",
       "      <td>-10.0</td>\n",
       "      <td>125.622874</td>\n",
       "    </tr>\n",
       "    <tr>\n",
       "      <th>11</th>\n",
       "      <td>0.0</td>\n",
       "      <td>-5.0</td>\n",
       "      <td>40.171254</td>\n",
       "    </tr>\n",
       "    <tr>\n",
       "      <th>12</th>\n",
       "      <td>0.0</td>\n",
       "      <td>0.0</td>\n",
       "      <td>4.719634</td>\n",
       "    </tr>\n",
       "    <tr>\n",
       "      <th>13</th>\n",
       "      <td>0.0</td>\n",
       "      <td>5.0</td>\n",
       "      <td>19.268013</td>\n",
       "    </tr>\n",
       "    <tr>\n",
       "      <th>14</th>\n",
       "      <td>0.0</td>\n",
       "      <td>10.0</td>\n",
       "      <td>83.816393</td>\n",
       "    </tr>\n",
       "    <tr>\n",
       "      <th>15</th>\n",
       "      <td>5.0</td>\n",
       "      <td>-10.0</td>\n",
       "      <td>130.745769</td>\n",
       "    </tr>\n",
       "    <tr>\n",
       "      <th>16</th>\n",
       "      <td>5.0</td>\n",
       "      <td>-5.0</td>\n",
       "      <td>45.294149</td>\n",
       "    </tr>\n",
       "    <tr>\n",
       "      <th>17</th>\n",
       "      <td>5.0</td>\n",
       "      <td>0.0</td>\n",
       "      <td>9.842529</td>\n",
       "    </tr>\n",
       "    <tr>\n",
       "      <th>18</th>\n",
       "      <td>5.0</td>\n",
       "      <td>5.0</td>\n",
       "      <td>24.390909</td>\n",
       "    </tr>\n",
       "    <tr>\n",
       "      <th>19</th>\n",
       "      <td>5.0</td>\n",
       "      <td>10.0</td>\n",
       "      <td>88.939289</td>\n",
       "    </tr>\n",
       "    <tr>\n",
       "      <th>20</th>\n",
       "      <td>10.0</td>\n",
       "      <td>-10.0</td>\n",
       "      <td>185.868665</td>\n",
       "    </tr>\n",
       "    <tr>\n",
       "      <th>21</th>\n",
       "      <td>10.0</td>\n",
       "      <td>-5.0</td>\n",
       "      <td>100.417045</td>\n",
       "    </tr>\n",
       "    <tr>\n",
       "      <th>22</th>\n",
       "      <td>10.0</td>\n",
       "      <td>0.0</td>\n",
       "      <td>64.965425</td>\n",
       "    </tr>\n",
       "    <tr>\n",
       "      <th>23</th>\n",
       "      <td>10.0</td>\n",
       "      <td>5.0</td>\n",
       "      <td>79.513805</td>\n",
       "    </tr>\n",
       "    <tr>\n",
       "      <th>24</th>\n",
       "      <td>10.0</td>\n",
       "      <td>10.0</td>\n",
       "      <td>144.062185</td>\n",
       "    </tr>\n",
       "  </tbody>\n",
       "</table>\n",
       "</div>"
      ],
      "text/plain": [
       "      x0    x1          y0\n",
       "0  -10.0 -10.0  265.377082\n",
       "1  -10.0  -5.0  179.925462\n",
       "2  -10.0   0.0  144.473842\n",
       "3  -10.0   5.0  159.022222\n",
       "4  -10.0  10.0  223.570602\n",
       "5   -5.0 -10.0  170.499978\n",
       "6   -5.0  -5.0   85.048358\n",
       "7   -5.0   0.0   49.596738\n",
       "8   -5.0   5.0   64.145118\n",
       "9   -5.0  10.0  128.693498\n",
       "10   0.0 -10.0  125.622874\n",
       "11   0.0  -5.0   40.171254\n",
       "12   0.0   0.0    4.719634\n",
       "13   0.0   5.0   19.268013\n",
       "14   0.0  10.0   83.816393\n",
       "15   5.0 -10.0  130.745769\n",
       "16   5.0  -5.0   45.294149\n",
       "17   5.0   0.0    9.842529\n",
       "18   5.0   5.0   24.390909\n",
       "19   5.0  10.0   88.939289\n",
       "20  10.0 -10.0  185.868665\n",
       "21  10.0  -5.0  100.417045\n",
       "22  10.0   0.0   64.965425\n",
       "23  10.0   5.0   79.513805\n",
       "24  10.0  10.0  144.062185"
      ]
     },
     "execution_count": 16,
     "metadata": {},
     "output_type": "execute_result"
    }
   ],
   "source": [
    "df\n"
   ]
  },
  {
   "cell_type": "code",
   "execution_count": 17,
   "metadata": {},
   "outputs": [
    {
     "data": {
      "text/plain": [
       "<mpl_toolkits.mplot3d.art3d.Poly3DCollection at 0x15038e580>"
      ]
     },
     "execution_count": 17,
     "metadata": {},
     "output_type": "execute_result"
    },
    {
     "data": {
      "image/png": "[encoded data removed]",
      "text/plain": [
       "<Figure size 640x480 with 1 Axes>"
      ]
     },
     "metadata": {},
     "output_type": "display_data"
    }
   ],
   "source": [
    "fig, ax = plt.subplots(subplot_kw={\"projection\": \"3d\"})\n",
    "\n",
    "Y0 = np.array(df.y0).reshape((n,n))\n",
    "\n",
    "X0 = X0.reshape((n,n))\n",
    "X1 = X1.reshape((n,n))\n",
    "ax.plot_surface(X0, X1, Y0, rstride=1, cstride=1, cmap=cm.coolwarm,\n",
    "                       linewidth=0.01, antialiased=True, alpha =0.8)\n"
   ]
  },
  {
   "cell_type": "code",
   "execution_count": 18,
   "metadata": {},
   "outputs": [],
   "source": [
    "def second_order(a, x0, x1):\n",
    "    y = x0+x1+x0*a[0]+x1*a[1]+a[2]*x0**2+a[3]*x1**2\n",
    "    return y\n",
    "\n",
    "def cost_second_order(a,x0,x1,y):\n",
    "    #print('hi')\n",
    "    cost = np.sum((y - second_order(a,x0,x1))**2)\n",
    "    #print((y - second_order(a,x0,x1))**2)\n",
    "    return cost"
   ]
  },
  {
   "cell_type": "code",
   "execution_count": 19,
   "metadata": {},
   "outputs": [
    {
     "data": {
      "text/plain": [
       "66102.37987233052"
      ]
     },
     "execution_count": 19,
     "metadata": {},
     "output_type": "execute_result"
    }
   ],
   "source": [
    "init = np.ones((4,1))\n",
    "cost_second_order(init, df.x0, df.x1, df.y0)"
   ]
  },
  {
   "cell_type": "code",
   "execution_count": 20,
   "metadata": {},
   "outputs": [
    {
     "name": "stdout",
     "output_type": "stream",
     "text": [
      "Optimization terminated successfully.\n",
      "         Current function value: 144.374620\n",
      "         Iterations: 144\n",
      "         Function evaluations: 249\n"
     ]
    },
    {
     "data": {
      "text/plain": [
       "array([-4.97540517, -3.09032366,  1.03496153,  1.03496414])"
      ]
     },
     "execution_count": 20,
     "metadata": {},
     "output_type": "execute_result"
    }
   ],
   "source": [
    "init = [-3.0, -3.0, 2.25, 2.25]\n",
    "\n",
    "ans_params = minimize(cost_second_order,\n",
    "               init,\n",
    "               method = 'Nelder-Mead',\n",
    "               args=(df.x0, df.x1, df.y0), \n",
    "               options = {'maxiter' : 1000000, 'disp': True}\n",
    "               )\n",
    "\n",
    "ans_params.x\n",
    "\n",
    "# Ground truth parameter [-3.0, -3.0, 2.25, 2.25]"
   ]
  },
  {
   "cell_type": "code",
   "execution_count": 23,
   "metadata": {},
   "outputs": [
    {
     "data": {
      "text/plain": [
       "     fun: 144.37461733295777\n",
       "     jac: array([ 0.00214868,  0.00146088, -0.00928537, -0.00029843])\n",
       " message: 'Optimization terminated successfully.'\n",
       "    nfev: 4995\n",
       "     nit: 82\n",
       " success: True\n",
       "       x: array([-4.97542002, -3.09032345,  1.03496018,  1.03496028])"
      ]
     },
     "execution_count": 23,
     "metadata": {},
     "output_type": "execute_result"
    }
   ],
   "source": [
    "bound = [(-10,10),(-10,10), (-10,10),(-10,10)]\n",
    "ans_params = scipy.optimize.differential_evolution(cost_second_order, bounds=bound, args=(df.x0, df.x1, df.y0),tol=1e-10)\n",
    "ans_params"
   ]
  },
  {
   "cell_type": "code",
   "execution_count": 24,
   "metadata": {},
   "outputs": [
    {
     "data": {
      "image/png": "[encoded data removed]",
      "text/plain": [
       "<Figure size 500x500 with 1 Axes>"
      ]
     },
     "metadata": {},
     "output_type": "display_data"
    }
   ],
   "source": [
    "def developed_function(x, params = list):\n",
    "    y = x[0]+x[1]+x[0]*params[0]+x[1]*params[1]+params[2]*x[0]**2+params[3]*x[1]**2\n",
    "    return y\n",
    "\n",
    "fig, ax = plt.subplots(figsize = (5,5))    \n",
    "figure = ax.scatter(df.y0, developed_function([df.x0,df.x1], params = ans_params.x), alpha = 0.5)\n",
    "#print(developed_function([df.x0,df.x1], params = ans_params.x))"
   ]
  },
  {
   "cell_type": "code",
   "execution_count": 26,
   "metadata": {},
   "outputs": [
    {
     "name": "stderr",
     "output_type": "stream",
     "text": [
      "/var/folders/qm/rsz4z5t17sl3k3c6x1z6j80c0000gn/T/ipykernel_18063/465136504.py:2: DeprecationWarning: Use of `minimize` with `x0.ndim != 1` is deprecated. Currently, singleton dimensions will be removed from `x0`, but an error will be raised in SciPy 1.11.0.\n",
      "  ans = minimize(developed_function,\n"
     ]
    },
    {
     "data": {
      "text/plain": [
       "      fun: -4.872993276698642\n",
       " hess_inv: array([[ 0.59506586, -0.21291924],\n",
       "       [-0.21291924,  0.8880445 ]])\n",
       "      jac: array([ 0.00000000e+00, -5.96046448e-08])\n",
       "  message: 'Optimization terminated successfully.'\n",
       "     nfev: 9\n",
       "      nit: 2\n",
       "     njev: 3\n",
       "   status: 0\n",
       "  success: True\n",
       "        x: array([1.92056663, 1.00985681])"
      ]
     },
     "execution_count": 26,
     "metadata": {},
     "output_type": "execute_result"
    }
   ],
   "source": [
    "init = np.zeros((2,1))\n",
    "ans = minimize(developed_function,\n",
    "               init,\n",
    "               #bounds = ((1,4),(2.5,3)),\n",
    "               args = (ans_params.x),\n",
    "               tol = 1e-1\n",
    "               ) \n",
    "ans \n",
    "\n",
    "# Groundtruth values \n",
    "# x0_center = 1.5 \n",
    "# x1_center = 1.5 "
   ]
  },
  {
   "cell_type": "code",
   "execution_count": 12,
   "metadata": {},
   "outputs": [],
   "source": [
    "## For discrete optimization problem: \n",
    "## https://scipy-cookbook.readthedocs.io/items/discrete_bvp.html"
   ]
  },
  {
   "cell_type": "code",
   "execution_count": null,
   "metadata": {},
   "outputs": [],
   "source": []
  }
 ],
 "metadata": {
  "kernelspec": {
   "display_name": "base",
   "language": "python",
   "name": "python3"
  },
  "language_info": {
   "codemirror_mode": {
    "name": "ipython",
    "version": 3
   },
   "file_extension": ".py",
   "mimetype": "text/x-python",
   "name": "python",
   "nbconvert_exporter": "python",
   "pygments_lexer": "ipython3",
   "version": "3.9.13"
  },
  "orig_nbformat": 4,
  "vscode": {
   "interpreter": {
    "hash": "b927926d5da9f155f70e01cd763284b851c3421432ad71beda670491290494ba"
   }
  }
 },
 "nbformat": 4,
 "nbformat_minor": 2
}
