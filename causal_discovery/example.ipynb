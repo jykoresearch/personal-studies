{
 "cells": [
  {
   "cell_type": "code",
   "execution_count": 4,
   "metadata": {},
   "outputs": [
    {
     "data": {
      "text/plain": [
       "0.4206198357143052"
      ]
     },
     "execution_count": 4,
     "metadata": {},
     "output_type": "execute_result"
    }
   ],
   "source": [
    "from cdt.independence.stats import AdjMI\n",
    "import numpy as np\n",
    "obj = AdjMI()\n",
    "a = np.array([1, 2, 1, 5])\n",
    "b = np.array([1, 3, 0, 6])\n",
    "obj.predict(a, b)"
   ]
  },
  {
   "cell_type": "code",
   "execution_count": 5,
   "metadata": {},
   "outputs": [
    {
     "data": {
      "text/plain": [
       "0.912870929175277"
      ]
     },
     "execution_count": 5,
     "metadata": {},
     "output_type": "execute_result"
    }
   ],
   "source": [
    "from cdt.independence.stats import KendallTau\n",
    "obj = KendallTau()\n",
    "a = np.array([1, 2, 1, 5])\n",
    "b = np.array([1, 3, 0, 6])\n",
    "obj.predict(a, b)"
   ]
  },
  {
   "cell_type": "code",
   "execution_count": 6,
   "metadata": {},
   "outputs": [
    {
     "data": {
      "text/plain": [
       "array([5.55111512e-17])"
      ]
     },
     "execution_count": 6,
     "metadata": {},
     "output_type": "execute_result"
    }
   ],
   "source": [
    "from cdt.independence.stats import MIRegression\n",
    "obj = MIRegression()\n",
    "a = np.array([1, 2, 1, 5])\n",
    "b = np.array([1, 3, 0, 6])\n",
    "obj.predict(a, b)\n"
   ]
  },
  {
   "cell_type": "code",
   "execution_count": 7,
   "metadata": {},
   "outputs": [
    {
     "data": {
      "text/plain": [
       "0.35258550130915023"
      ]
     },
     "execution_count": 7,
     "metadata": {},
     "output_type": "execute_result"
    }
   ],
   "source": [
    "from cdt.independence.stats import NormalizedHSIC\n",
    "obj = NormalizedHSIC()\n",
    "a = np.array([1, 2, 1, 5])\n",
    "b = np.array([1, 3, 0, 6])\n",
    "obj.predict(a, b)"
   ]
  },
  {
   "cell_type": "code",
   "execution_count": null,
   "metadata": {},
   "outputs": [],
   "source": []
  }
 ],
 "metadata": {
  "kernelspec": {
   "display_name": "base",
   "language": "python",
   "name": "python3"
  },
  "language_info": {
   "codemirror_mode": {
    "name": "ipython",
    "version": 3
   },
   "file_extension": ".py",
   "mimetype": "text/x-python",
   "name": "python",
   "nbconvert_exporter": "python",
   "pygments_lexer": "ipython3",
   "version": "3.9.16"
  },
  "orig_nbformat": 4,
  "vscode": {
   "interpreter": {
    "hash": "b927926d5da9f155f70e01cd763284b851c3421432ad71beda670491290494ba"
   }
  }
 },
 "nbformat": 4,
 "nbformat_minor": 2
}
